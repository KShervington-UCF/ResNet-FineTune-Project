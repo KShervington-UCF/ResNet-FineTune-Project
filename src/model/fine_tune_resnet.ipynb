{
 "cells": [
  {
   "cell_type": "markdown",
   "metadata": {},
   "source": [
    "### Import Libraries"
   ]
  },
  {
   "cell_type": "code",
   "execution_count": 3,
   "metadata": {},
   "outputs": [],
   "source": [
    "import os\n",
    "import numpy as np\n",
    "import tensorflow as tf\n",
    "from tensorflow import keras\n",
    "from tensorflow.keras import layers, models\n",
    "from tensorflow.keras.preprocessing.image import ImageDataGenerator\n",
    "import matplotlib.pyplot as plt\n",
    "from sklearn.metrics import classification_report, confusion_matrix"
   ]
  },
  {
   "cell_type": "code",
   "execution_count": 4,
   "metadata": {},
   "outputs": [
    {
     "name": "stdout",
     "output_type": "stream",
     "text": [
      "GPU is Available!\n"
     ]
    }
   ],
   "source": [
    "if len(tf.config.list_physical_devices('GPU')) > 0:\n",
    "    print(\"GPU is Available!\" )\n",
    "else:\n",
    "    raise Exception(\"No GPU available\") "
   ]
  },
  {
   "cell_type": "markdown",
   "metadata": {},
   "source": [
    "### Hyperparameters"
   ]
  },
  {
   "cell_type": "code",
   "execution_count": 5,
   "metadata": {},
   "outputs": [],
   "source": [
    "BATCH_SIZE = 32\n",
    "DROPOUT_RATE = 0.5\n",
    "ACTIVATION_FUNCTION = 'softmax'\n",
    "LEARNING_RATE = 1e-4\n",
    "LOSS_FUNCTION = 'categorical_crossentropy'"
   ]
  },
  {
   "cell_type": "markdown",
   "metadata": {},
   "source": [
    "### Data Processing and Augmentation"
   ]
  },
  {
   "cell_type": "code",
   "execution_count": 6,
   "metadata": {},
   "outputs": [
    {
     "name": "stdout",
     "output_type": "stream",
     "text": [
      "Found 958941 images belonging to 27 classes.\n",
      "Found 19860 images belonging to 27 classes.\n",
      "Found 49500 images belonging to 27 classes.\n"
     ]
    }
   ],
   "source": [
    "# Define image size and batch size\n",
    "IMG_HEIGHT, IMG_WIDTH = 224, 224  # ResNet-50 input size\n",
    "\n",
    "# Define data augmentation for the training set\n",
    "train_datagen = ImageDataGenerator(\n",
    "    rescale=1./255,\n",
    "    rotation_range=15,\n",
    "    width_shift_range=0.1,\n",
    "    height_shift_range=0.1,\n",
    "    horizontal_flip=True\n",
    ")\n",
    "\n",
    "# No augmentation for validation and test sets, only rescaling\n",
    "validation_datagen = ImageDataGenerator(rescale=1./255)\n",
    "test_datagen = ImageDataGenerator(rescale=1./255)\n",
    "\n",
    "# Create generators\n",
    "train_generator = train_datagen.flow_from_directory(\n",
    "    '../../dataset/train',\n",
    "    target_size=(IMG_HEIGHT, IMG_WIDTH),\n",
    "    batch_size=BATCH_SIZE,\n",
    "    class_mode='categorical'\n",
    ")\n",
    "\n",
    "validation_generator = validation_datagen.flow_from_directory(\n",
    "    '../../dataset/validation',\n",
    "    target_size=(IMG_HEIGHT, IMG_WIDTH),\n",
    "    batch_size=BATCH_SIZE,\n",
    "    class_mode='categorical'\n",
    ")\n",
    "\n",
    "test_generator = test_datagen.flow_from_directory(\n",
    "    '../../dataset/test',\n",
    "    target_size=(IMG_HEIGHT, IMG_WIDTH),\n",
    "    batch_size=BATCH_SIZE,\n",
    "    class_mode='categorical',\n",
    "    shuffle=False\n",
    ")"
   ]
  },
  {
   "cell_type": "markdown",
   "metadata": {},
   "source": [
    "### Load Pretrained ResNet-50 Model"
   ]
  },
  {
   "cell_type": "markdown",
   "metadata": {},
   "source": [
    "Potential to experiment with other pretrained ResNet models from Keras. OPtions currently offerred are:\n",
    "\n",
    "| Model | Size (MB) | Top-1 Accuracy | Top-5 Accuracy | Parameters | Depth | Time (ms) per inference step (CPU) | Time (ms) per inference step (GPU) |\n",
    "| --- | --- | --- | --- | --- | --- | --- | --- |\n",
    "| ResNet50    |\t98  | 74.9% | 92.1% | 25.6M | 107 |\t58.2 |\t4.6 |\n",
    "| ResNet50V2  |\t98  | 76.0% | 93.0% | 25.6M | 103 |\t45.6 |\t4.4 |\n",
    "| ResNet101   |\t171 | 76.4% | 92.8% | 44.7M | 209 |\t89.6 |\t5.2 |\n",
    "| ResNet101V2 |\t171 | 77.2% | 93.8% | 44.7M | 205 |\t72.7 |\t5.4 |\n",
    "| ResNet152   |\t232 | 76.6%\t| 93.1%\t| 60.4M\t| 311 | 127.4|\t6.5 |"
   ]
  },
  {
   "cell_type": "markdown",
   "metadata": {},
   "source": [
    "Deeper models are recommended when one has access to more computational resources and larger datasets."
   ]
  },
  {
   "cell_type": "code",
   "execution_count": 7,
   "metadata": {},
   "outputs": [
    {
     "name": "stdout",
     "output_type": "stream",
     "text": [
      "Downloading data from https://storage.googleapis.com/tensorflow/keras-applications/resnet/resnet50_weights_tf_dim_ordering_tf_kernels_notop.h5\n",
      "94765736/94765736 [==============================] - 1s 0us/step\n"
     ]
    }
   ],
   "source": [
    "# Load the ResNet-50 model without the top classification layer\n",
    "base_model = keras.applications.ResNet50(\n",
    "    weights='imagenet',  # Load weights pre-trained on ImageNet\n",
    "    include_top=False,   # Do not include the ImageNet classifier at the top\n",
    "    input_shape=(IMG_HEIGHT, IMG_WIDTH, 3)\n",
    ")\n"
   ]
  },
  {
   "cell_type": "markdown",
   "metadata": {},
   "source": [
    "### Customize Model for Classification"
   ]
  },
  {
   "cell_type": "code",
   "execution_count": 8,
   "metadata": {},
   "outputs": [],
   "source": [
    "# Freeze the base model\n",
    "base_model.trainable = False\n",
    "\n",
    "# Create a new model on top\n",
    "inputs = keras.Input(shape=(IMG_HEIGHT, IMG_WIDTH, 3))\n",
    "x = base_model(inputs, training=False)\n",
    "x = layers.GlobalAveragePooling2D()(x)\n",
    "x = layers.Dropout(DROPOUT_RATE)(x)  # Regularization\n",
    "outputs = layers.Dense(train_generator.num_classes, activation=ACTIVATION_FUNCTION)(x)\n",
    "model = keras.Model(inputs, outputs)\n"
   ]
  },
  {
   "cell_type": "markdown",
   "metadata": {},
   "source": [
    "### Compile Model"
   ]
  },
  {
   "cell_type": "code",
   "execution_count": 9,
   "metadata": {},
   "outputs": [],
   "source": [
    "model.compile(\n",
    "    optimizer=keras.optimizers.Adam(learning_rate=LEARNING_RATE),\n",
    "    loss=LOSS_FUNCTION,\n",
    "    metrics=['accuracy']\n",
    ")\n"
   ]
  },
  {
   "cell_type": "markdown",
   "metadata": {},
   "source": [
    "### Train the Model"
   ]
  },
  {
   "cell_type": "code",
   "execution_count": 10,
   "metadata": {},
   "outputs": [],
   "source": [
    "# Define callbacks\n",
    "callbacks = [\n",
    "    keras.callbacks.ModelCheckpoint(\n",
    "        'best_model.h5', save_best_only=True, monitor='val_accuracy', mode='max'\n",
    "    ),\n",
    "    keras.callbacks.EarlyStopping(\n",
    "        monitor='val_accuracy', patience=5, restore_best_weights=True\n",
    "    )\n",
    "]"
   ]
  },
  {
   "cell_type": "code",
   "execution_count": 11,
   "metadata": {},
   "outputs": [
    {
     "name": "stdout",
     "output_type": "stream",
     "text": [
      "Epoch 1/10\n",
      "29967/29967 [==============================] - 7438s 248ms/step - loss: 2.7801 - accuracy: 0.1575 - val_loss: 3.3501 - val_accuracy: 0.1218\n",
      "Epoch 2/10\n",
      "29967/29967 [==============================] - 7226s 241ms/step - loss: 2.6596 - accuracy: 0.1942 - val_loss: 3.3247 - val_accuracy: 0.1242\n",
      "Epoch 3/10\n",
      "29967/29967 [==============================] - 7293s 243ms/step - loss: 2.6155 - accuracy: 0.2067 - val_loss: 3.2881 - val_accuracy: 0.1393\n",
      "Epoch 4/10\n",
      "29967/29967 [==============================] - 7482s 250ms/step - loss: 2.5862 - accuracy: 0.2152 - val_loss: 3.2602 - val_accuracy: 0.1502\n",
      "Epoch 5/10\n",
      "29967/29967 [==============================] - 7538s 252ms/step - loss: 2.5654 - accuracy: 0.2207 - val_loss: 3.2293 - val_accuracy: 0.1390\n",
      "Epoch 6/10\n",
      "29967/29967 [==============================] - 7327s 244ms/step - loss: 2.5479 - accuracy: 0.2256 - val_loss: 3.2101 - val_accuracy: 0.1545\n",
      "Epoch 7/10\n",
      "29967/29967 [==============================] - 7294s 243ms/step - loss: 2.5356 - accuracy: 0.2291 - val_loss: 3.2144 - val_accuracy: 0.1634\n",
      "Epoch 8/10\n",
      "29967/29967 [==============================] - 7369s 246ms/step - loss: 2.5235 - accuracy: 0.2323 - val_loss: 3.1920 - val_accuracy: 0.1543\n",
      "Epoch 9/10\n",
      "29967/29967 [==============================] - 7331s 245ms/step - loss: 2.5137 - accuracy: 0.2358 - val_loss: 3.1754 - val_accuracy: 0.1652\n",
      "Epoch 10/10\n",
      "29967/29967 [==============================] - 7393s 247ms/step - loss: 2.5047 - accuracy: 0.2378 - val_loss: 3.1662 - val_accuracy: 0.1529\n"
     ]
    }
   ],
   "source": [
    "# Train the model\n",
    "history = model.fit(\n",
    "    train_generator,\n",
    "    epochs=10,\n",
    "    validation_data=validation_generator,\n",
    "    callbacks=callbacks\n",
    ")\n"
   ]
  },
  {
   "cell_type": "markdown",
   "metadata": {},
   "source": [
    "### Resume Training"
   ]
  },
  {
   "cell_type": "code",
   "execution_count": 12,
   "metadata": {},
   "outputs": [],
   "source": [
    "# model = keras.models.load_model('best_model.h5')"
   ]
  },
  {
   "cell_type": "markdown",
   "metadata": {},
   "source": [
    "### Unfreeze Some Layers for Fine-Tuning"
   ]
  },
  {
   "cell_type": "code",
   "execution_count": 13,
   "metadata": {},
   "outputs": [
    {
     "name": "stdout",
     "output_type": "stream",
     "text": [
      "Epoch 1/10\n",
      "29967/29967 [==============================] - 7192s 240ms/step - loss: 2.2186 - accuracy: 0.3148 - val_loss: 2.9194 - val_accuracy: 0.2114\n",
      "Epoch 2/10\n",
      "29967/29967 [==============================] - 7346s 245ms/step - loss: 2.0737 - accuracy: 0.3591 - val_loss: 2.9795 - val_accuracy: 0.2235\n",
      "Epoch 3/10\n",
      "29967/29967 [==============================] - 7345s 245ms/step - loss: 1.9989 - accuracy: 0.3813 - val_loss: 2.9036 - val_accuracy: 0.2277\n",
      "Epoch 4/10\n",
      "29967/29967 [==============================] - 7390s 247ms/step - loss: 1.9428 - accuracy: 0.3977 - val_loss: 2.7314 - val_accuracy: 0.2637\n",
      "Epoch 5/10\n",
      "29967/29967 [==============================] - 7315s 244ms/step - loss: 1.8962 - accuracy: 0.4109 - val_loss: 2.7850 - val_accuracy: 0.2525\n",
      "Epoch 6/10\n",
      "29967/29967 [==============================] - 7678s 256ms/step - loss: 1.8558 - accuracy: 0.4230 - val_loss: 2.6386 - val_accuracy: 0.2676\n",
      "Epoch 7/10\n",
      "29967/29967 [==============================] - 7539s 252ms/step - loss: 1.8221 - accuracy: 0.4324 - val_loss: 2.6630 - val_accuracy: 0.2731\n",
      "Epoch 8/10\n",
      "29967/29967 [==============================] - 7297s 243ms/step - loss: 1.7911 - accuracy: 0.4414 - val_loss: 2.5734 - val_accuracy: 0.2809\n",
      "Epoch 9/10\n",
      "29967/29967 [==============================] - 7345s 245ms/step - loss: 1.7618 - accuracy: 0.4504 - val_loss: 2.4794 - val_accuracy: 0.2958\n",
      "Epoch 10/10\n",
      "29967/29967 [==============================] - 7440s 248ms/step - loss: 1.7355 - accuracy: 0.4575 - val_loss: 2.4566 - val_accuracy: 0.3035\n"
     ]
    }
   ],
   "source": [
    "# Unfreeze the top layers of the model\n",
    "base_model.trainable = True\n",
    "\n",
    "# Freeze all layers except the last few layers\n",
    "for layer in base_model.layers[:-10]:\n",
    "    layer.trainable = False\n",
    "\n",
    "# Recompile the model with a lower learning rate\n",
    "model.compile(\n",
    "    optimizer=keras.optimizers.Adam(learning_rate=1e-5),\n",
    "    loss='categorical_crossentropy',\n",
    "    metrics=['accuracy']\n",
    ")\n",
    "\n",
    "# Continue training\n",
    "history_fine = model.fit(\n",
    "    train_generator,\n",
    "    epochs=10,\n",
    "    validation_data=validation_generator,\n",
    "    callbacks=callbacks\n",
    ")\n"
   ]
  },
  {
   "cell_type": "markdown",
   "metadata": {},
   "source": [
    "### Evaluate the Model"
   ]
  },
  {
   "cell_type": "code",
   "execution_count": 14,
   "metadata": {},
   "outputs": [
    {
     "name": "stdout",
     "output_type": "stream",
     "text": [
      "1547/1547 [==============================] - 248s 160ms/step - loss: 2.2503 - accuracy: 0.3453\n",
      "Test accuracy: 0.35\n",
      "1547/1547 [==============================] - 97s 62ms/step\n",
      "Classification Report\n",
      "                             precision    recall  f1-score   support\n",
      "\n",
      "            dry-asphalt-bad       0.63      0.04      0.08       800\n",
      "           dry-asphalt-good       0.24      0.45      0.32      2350\n",
      "   dry-asphalt-intermediate       0.31      0.36      0.33      2350\n",
      "           dry-concrete-bad       0.35      0.60      0.45      2350\n",
      "          dry-concrete-good       0.43      0.48      0.45      2350\n",
      "  dry-concrete-intermediate       0.54      0.09      0.15      2350\n",
      "                 dry-gravel       0.22      0.61      0.33      2350\n",
      "                    dry-mud       0.23      0.50      0.31      2350\n",
      "                 fresh_snow       0.56      0.57      0.56      2350\n",
      "                        ice       0.45      0.40      0.42      2350\n",
      "                melted_snow       0.71      0.58      0.64      2350\n",
      "          water-asphalt-bad       0.00      0.00      0.00       800\n",
      "         water-asphalt-good       0.38      0.49      0.43      2350\n",
      " water-asphalt-intermediate       0.00      0.00      0.00       800\n",
      "         water-concrete-bad       0.36      0.01      0.01       800\n",
      "        water-concrete-good       0.25      0.03      0.05      2350\n",
      "water-concrete-intermediate       0.00      0.00      0.00       800\n",
      "               water-gravel       0.31      0.05      0.09       800\n",
      "                  water-mud       0.60      0.01      0.03      2350\n",
      "            wet-asphalt-bad       0.00      0.00      0.00       800\n",
      "           wet-asphalt-good       0.40      0.66      0.49      2350\n",
      "   wet-asphalt-intermediate       0.35      0.15      0.21      2350\n",
      "           wet-concrete-bad       0.00      0.00      0.00       800\n",
      "          wet-concrete-good       0.36      0.42      0.39      2350\n",
      "  wet-concrete-intermediate       0.29      0.01      0.01       800\n",
      "                 wet-gravel       0.36      0.50      0.42      2350\n",
      "                    wet-mud       0.26      0.33      0.29      2350\n",
      "\n",
      "                   accuracy                           0.35     49500\n",
      "                  macro avg       0.32      0.27      0.24     49500\n",
      "               weighted avg       0.36      0.35      0.30     49500\n",
      "\n"
     ]
    },
    {
     "name": "stderr",
     "output_type": "stream",
     "text": [
      "d:\\Projects\\ResNet-FineTune-Project\\env\\lib\\site-packages\\sklearn\\metrics\\_classification.py:1531: UndefinedMetricWarning: Precision is ill-defined and being set to 0.0 in labels with no predicted samples. Use `zero_division` parameter to control this behavior.\n",
      "  _warn_prf(average, modifier, f\"{metric.capitalize()} is\", len(result))\n",
      "d:\\Projects\\ResNet-FineTune-Project\\env\\lib\\site-packages\\sklearn\\metrics\\_classification.py:1531: UndefinedMetricWarning: Precision is ill-defined and being set to 0.0 in labels with no predicted samples. Use `zero_division` parameter to control this behavior.\n",
      "  _warn_prf(average, modifier, f\"{metric.capitalize()} is\", len(result))\n",
      "d:\\Projects\\ResNet-FineTune-Project\\env\\lib\\site-packages\\sklearn\\metrics\\_classification.py:1531: UndefinedMetricWarning: Precision is ill-defined and being set to 0.0 in labels with no predicted samples. Use `zero_division` parameter to control this behavior.\n",
      "  _warn_prf(average, modifier, f\"{metric.capitalize()} is\", len(result))\n"
     ]
    }
   ],
   "source": [
    "# Load the best model\n",
    "model = keras.models.load_model('best_model.h5')\n",
    "\n",
    "# Evaluate on the test set\n",
    "test_loss, test_acc = model.evaluate(test_generator)\n",
    "print(f'Test accuracy: {test_acc:.2f}')\n",
    "\n",
    "# Generate classification report\n",
    "Y_pred = model.predict(test_generator)\n",
    "y_pred = np.argmax(Y_pred, axis=1)\n",
    "print('Classification Report')\n",
    "print(classification_report(test_generator.classes, y_pred, target_names=test_generator.class_indices.keys()))\n"
   ]
  },
  {
   "cell_type": "markdown",
   "metadata": {},
   "source": [
    "### VIsualize Training Results"
   ]
  },
  {
   "cell_type": "code",
   "execution_count": 15,
   "metadata": {},
   "outputs": [
    {
     "data": {
      "image/png": "[encoded data removed]",
      "text/plain": [
       "<Figure size 800x600 with 1 Axes>"
      ]
     },
     "metadata": {},
     "output_type": "display_data"
    },
    {
     "data": {
      "image/png": "[encoded data removed]",
      "text/plain": [
       "<Figure size 800x600 with 1 Axes>"
      ]
     },
     "metadata": {},
     "output_type": "display_data"
    }
   ],
   "source": [
    "# Plot training & validation accuracy values\n",
    "plt.figure(figsize=(8, 6))\n",
    "plt.plot(history.history['accuracy'] + history_fine.history['accuracy'])\n",
    "plt.plot(history.history['val_accuracy'] + history_fine.history['val_accuracy'])\n",
    "plt.title('Model Accuracy')\n",
    "plt.ylabel('Accuracy')\n",
    "plt.xlabel('Epoch')\n",
    "plt.legend(['Train', 'Validation'], loc='upper left')\n",
    "plt.show()\n",
    "\n",
    "# Plot training & validation loss values\n",
    "plt.figure(figsize=(8, 6))\n",
    "plt.plot(history.history['loss'] + history_fine.history['loss'])\n",
    "plt.plot(history.history['val_loss'] + history_fine.history['val_loss'])\n",
    "plt.title('Model Loss')\n",
    "plt.ylabel('Loss')\n",
    "plt.xlabel('Epoch')\n",
    "plt.legend(['Train', 'Validation'], loc='upper left')\n",
    "plt.show()\n"
   ]
  },
  {
   "cell_type": "markdown",
   "metadata": {},
   "source": [
    "### Save Trained Model"
   ]
  },
  {
   "cell_type": "code",
   "execution_count": 16,
   "metadata": {},
   "outputs": [],
   "source": [
    "# Save the trained model for future use\n",
    "model.save('road_surface_classifier.h5')\n"
   ]
  },
  {
   "cell_type": "markdown",
   "metadata": {},
   "source": []
  }
 ],
 "metadata": {
  "kernelspec": {
   "display_name": "Python 3",
   "language": "python",
   "name": "python3"
  },
  "language_info": {
   "codemirror_mode": {
    "name": "ipython",
    "version": 3
   },
   "file_extension": ".py",
   "mimetype": "text/x-python",
   "name": "python",
   "nbconvert_exporter": "python",
   "pygments_lexer": "ipython3",
   "version": "3.9.18"
  }
 },
 "nbformat": 4,
 "nbformat_minor": 2
}
